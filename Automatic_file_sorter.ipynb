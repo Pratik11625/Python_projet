{
 "cells": [
  {
   "cell_type": "markdown",
   "id": "d70a8b1b",
   "metadata": {},
   "source": [
    "# Automatic file sorter in file explorer\n",
    "Objective:\n",
    "\n",
    "The objective of the automatic file sorter in the file explorer is to organize files within a designated folder based on predefined rules or criteria. This automation tool aims to enhance file management efficiency by performing"
   ]
  },
  {
   "cell_type": "code",
   "execution_count": 14,
   "id": "37e948af",
   "metadata": {},
   "outputs": [
    {
     "name": "stdout",
     "output_type": "stream",
     "text": [
      "Provide the path to sort the files: C:\\Users\\Ankita\\Desktop\\pratik\\project\n"
     ]
    }
   ],
   "source": [
    "import os\n",
    "import shutil\n",
    "\n",
    "path = input(\"Provide the path to sort the files: \")\n",
    "\n",
    "# Create a dictionary to map extensions to folder names\n",
    "extension_to_folder = {\n",
    "    \".csv\": \"CSV files\",\n",
    "    \".png\": \"Image_png files\",\n",
    "    \".jpg\": \"Image_jpg files\",\n",
    "    \".jpeg\": \"Image_jpeg files\",\n",
    "    \".jfjf\" : \"Image_jfif files\",\n",
    "    \".webp\": \"Image_web files\",\n",
    "    \".txt\": \"Text files\",\n",
    "    \".html\": \"HTML files\",\n",
    "    \".pdf\": \"PDF files\",\n",
    "    \".ipynb\": \"Python files\",\n",
    "    \".docx\": \"Docx files\",\n",
    "    \".doc\": \"Docx files\",\n",
    "    \".pptx\": \"PPT files\",\n",
    "    \".pps\": \"PPT files\",\n",
    "    \".xlsx\": \"Excel files\",\n",
    "}\n",
    "\n",
    "# Create folders if they don't exist\n",
    "for folder_name in set(extension_to_folder.values()):\n",
    "    folder_path = os.path.join(path, folder_name)\n",
    "    if not os.path.exists(folder_path):\n",
    "        os.makedirs(folder_path)\n",
    "\n",
    "# Move files to respective folders based on their extensions\n",
    "for file in os.listdir(path):\n",
    "    filename, extension = os.path.splitext(file.lower())\n",
    "    if extension in extension_to_folder:\n",
    "        destination_folder = extension_to_folder[extension]\n",
    "        destination_path = os.path.join(path, destination_folder, file)\n",
    "        shutil.move(os.path.join(path, file), destination_path)\n",
    "        \n",
    "print(\"successfully stored the files\")"
   ]
  },
  {
   "cell_type": "code",
   "execution_count": null,
   "id": "7e422951",
   "metadata": {},
   "outputs": [],
   "source": []
  },
  {
   "cell_type": "code",
   "execution_count": null,
   "id": "210ce7e4",
   "metadata": {},
   "outputs": [],
   "source": []
  },
  {
   "cell_type": "code",
   "execution_count": null,
   "id": "0f59855a",
   "metadata": {},
   "outputs": [],
   "source": []
  },
  {
   "cell_type": "code",
   "execution_count": null,
   "id": "83220bed",
   "metadata": {},
   "outputs": [],
   "source": []
  }
 ],
 "metadata": {
  "kernelspec": {
   "display_name": "Python 3",
   "language": "python",
   "name": "python3"
  },
  "language_info": {
   "codemirror_mode": {
    "name": "ipython",
    "version": 3
   },
   "file_extension": ".py",
   "mimetype": "text/x-python",
   "name": "python",
   "nbconvert_exporter": "python",
   "pygments_lexer": "ipython3",
   "version": "3.8.8"
  }
 },
 "nbformat": 4,
 "nbformat_minor": 5
}
