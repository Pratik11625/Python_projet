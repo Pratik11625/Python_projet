{
 "cells": [
  {
   "cell_type": "code",
   "execution_count": 5,
   "id": "6520f44c",
   "metadata": {},
   "outputs": [],
   "source": [
    "import os\n",
    "\n",
    "folder_path = r'file_path'\n",
    "\n",
    "for filename in os.listdir(folder_path):\n",
    "    if filename.endswith('.txt'):\n",
    "        # Construct the full old and new file paths\n",
    "        old_path = os.path.join(folder_path, filename)\n",
    "        new_filename = filename[16:]\n",
    "        new_path = os.path.join(folder_path, new_filename)\n",
    "        \n",
    "        # Rename the file\n",
    "        os.rename(old_path, new_path)\n",
    "        \n",
    "    elif filename.endswith('.jpg'):\n",
    "        # Construct the full old and new file paths\n",
    "        old_path = os.path.join(folder_path, filename)\n",
    "        new_filename = filename[16:]\n",
    "        new_path = os.path.join(folder_path, new_filename)\n",
    "        \n",
    "        # Rename the file\n",
    "        os.rename(old_path, new_path)    \n"
   ]
  },
  {
   "cell_type": "code",
   "execution_count": null,
   "id": "bb595665",
   "metadata": {},
   "outputs": [],
   "source": []
  }
 ],
 "metadata": {
  "kernelspec": {
   "display_name": "Python 3",
   "language": "python",
   "name": "python3"
  },
  "language_info": {
   "codemirror_mode": {
    "name": "ipython",
    "version": 3
   },
   "file_extension": ".py",
   "mimetype": "text/x-python",
   "name": "python",
   "nbconvert_exporter": "python",
   "pygments_lexer": "ipython3",
   "version": "3.8.8"
  }
 },
 "nbformat": 4,
 "nbformat_minor": 5
}
